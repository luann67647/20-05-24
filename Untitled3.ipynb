{
  "nbformat": 4,
  "nbformat_minor": 0,
  "metadata": {
    "colab": {
      "provenance": [],
      "authorship_tag": "ABX9TyNrlXF1OHDChOtGgVsSX2V9",
      "include_colab_link": true
    },
    "kernelspec": {
      "name": "python3",
      "display_name": "Python 3"
    },
    "language_info": {
      "name": "python"
    }
  },
  "cells": [
    {
      "cell_type": "markdown",
      "metadata": {
        "id": "view-in-github",
        "colab_type": "text"
      },
      "source": [
        "<a href=\"https://colab.research.google.com/github/luann67647/20-05-24/blob/main/Untitled3.ipynb\" target=\"_parent\"><img src=\"https://colab.research.google.com/assets/colab-badge.svg\" alt=\"Open In Colab\"/></a>"
      ]
    },
    {
      "cell_type": "code",
      "source": [
        "a = 84\n",
        "b = 94\n",
        "\n",
        "resultado = a * b\n",
        "print(resultado)\n"
      ],
      "metadata": {
        "colab": {
          "base_uri": "https://localhost:8080/"
        },
        "id": "Q5aEb0AHivw4",
        "outputId": "f58d6121-9ecf-4897-939d-47cf26abb495"
      },
      "execution_count": 115,
      "outputs": [
        {
          "output_type": "stream",
          "name": "stdout",
          "text": [
            "7896\n"
          ]
        }
      ]
    },
    {
      "cell_type": "code",
      "source": [
        "a = 82\n",
        "b = 80\n",
        "\n",
        "resultado = a + b\n",
        "print(resultado)"
      ],
      "metadata": {
        "colab": {
          "base_uri": "https://localhost:8080/"
        },
        "id": "hDr06GZxj2Yh",
        "outputId": "038790f8-b6a6-47ff-93c7-52aaf2b0140e"
      },
      "execution_count": 116,
      "outputs": [
        {
          "output_type": "stream",
          "name": "stdout",
          "text": [
            "162\n"
          ]
        }
      ]
    },
    {
      "cell_type": "code",
      "source": [
        "peso = float(input(\" Qual,e seu peso: \"))\n",
        "\n",
        "if peso  >=60:\n",
        "  print(\" Voce esta obeso \")\n",
        "else:\n",
        "  print(\" Voce não esta obeso \")"
      ],
      "metadata": {
        "colab": {
          "base_uri": "https://localhost:8080/"
        },
        "id": "xvV3GHhrkJsf",
        "outputId": "ef1c3090-6f86-4e0a-cf8e-1421e45a94af"
      },
      "execution_count": 117,
      "outputs": [
        {
          "output_type": "stream",
          "name": "stdout",
          "text": [
            " Qual,e seu peso: 90\n",
            " Voce esta obeso \n"
          ]
        }
      ]
    },
    {
      "cell_type": "code",
      "source": [
        "altura = float(input(\"Digite sua altura em metros\"))\n",
        "print(\"A altura da pessoa é:\",altura, \"m\")\n",
        "\n"
      ],
      "metadata": {
        "colab": {
          "base_uri": "https://localhost:8080/"
        },
        "id": "2fbNAQwwnF1H",
        "outputId": "b7c9f4fb-940b-4028-bbdd-877679c45dc2"
      },
      "execution_count": 118,
      "outputs": [
        {
          "output_type": "stream",
          "name": "stdout",
          "text": [
            "Digite sua altura em metros90\n",
            "A altura da pessoa é: 90.0 m\n"
          ]
        }
      ]
    },
    {
      "cell_type": "code",
      "source": [
        "idade = int(input(\"Digite sua idade: \"))\n",
        "\n",
        "if idade >= 18:\n",
        "  print(\"Voce é maior de idade\")\n",
        "else:\n",
        "  print(\"Voce é menor de idade\")"
      ],
      "metadata": {
        "colab": {
          "base_uri": "https://localhost:8080/"
        },
        "id": "lFVuYu1BoHym",
        "outputId": "6cdcbad0-735e-42cd-b433-0dfcb4d27f46"
      },
      "execution_count": 119,
      "outputs": [
        {
          "output_type": "stream",
          "name": "stdout",
          "text": [
            "Digite sua idade: 89\n",
            "Voce é maior de idade\n"
          ]
        }
      ]
    },
    {
      "cell_type": "code",
      "source": [
        "sexo = (input(\"Digite seu sexo: (M/F)\"))\n",
        "\n",
        "if sexo == \"M\":\n",
        "  print(\"voce e do sexo masculino\")\n",
        "else:\n",
        "  print(\"voce e do sexo feminino\")\n",
        ""
      ],
      "metadata": {
        "colab": {
          "base_uri": "https://localhost:8080/"
        },
        "id": "pGSxtC4Zo0uu",
        "outputId": "2ba33a38-db1b-403e-8e03-6f71b2717570"
      },
      "execution_count": 120,
      "outputs": [
        {
          "output_type": "stream",
          "name": "stdout",
          "text": [
            "Digite seu sexo: (M/F)M\n",
            "voce e do sexo masculino\n"
          ]
        }
      ]
    }
  ]
}